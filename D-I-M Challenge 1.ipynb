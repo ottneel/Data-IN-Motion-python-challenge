{
 "cells": [
  {
   "cell_type": "markdown",
   "id": "2842ef46",
   "metadata": {},
   "source": [
    "##### Problem 1: Write a function that takes in an integer, minutes, and converts it into seconds"
   ]
  },
  {
   "cell_type": "code",
   "execution_count": 2,
   "id": "0356489a",
   "metadata": {},
   "outputs": [],
   "source": [
    "def minutes_to_seconds(integer):\n",
    "    #if statement to catch a string input\n",
    "    if type(integer) == str:\n",
    "        return 'please enter an integer'\n",
    "    else:\n",
    "        seconds = integer*60\n",
    "        return f\"{integer} mins in seconds is {seconds} seconds\""
   ]
  },
  {
   "cell_type": "code",
   "execution_count": 3,
   "id": "cb84d52e",
   "metadata": {},
   "outputs": [
    {
     "data": {
      "text/plain": [
       "'please enter an integer'"
      ]
     },
     "execution_count": 3,
     "metadata": {},
     "output_type": "execute_result"
    }
   ],
   "source": [
    "minutes_to_seconds('do')"
   ]
  },
  {
   "cell_type": "code",
   "execution_count": 4,
   "id": "a594d8bc",
   "metadata": {},
   "outputs": [
    {
     "data": {
      "text/plain": [
       "'500 mins in seconds is 30000 seconds'"
      ]
     },
     "execution_count": 4,
     "metadata": {},
     "output_type": "execute_result"
    }
   ],
   "source": [
    "minutes_to_seconds(500)"
   ]
  },
  {
   "cell_type": "markdown",
   "id": "00d6a6aa",
   "metadata": {},
   "source": [
    "#### Problem 2: Write a function that takes two numbers as arguments and returns their sum."
   ]
  },
  {
   "cell_type": "code",
   "execution_count": 5,
   "id": "a5875cbc",
   "metadata": {},
   "outputs": [],
   "source": [
    "def summing (number1, number2):\n",
    "    if type(number1) == str or type(number2) == str:\n",
    "        return 'please enter a number'\n",
    "    else:\n",
    "        return number1+number2"
   ]
  },
  {
   "cell_type": "code",
   "execution_count": 6,
   "id": "cfab058c",
   "metadata": {},
   "outputs": [
    {
     "data": {
      "text/plain": [
       "7"
      ]
     },
     "execution_count": 6,
     "metadata": {},
     "output_type": "execute_result"
    }
   ],
   "source": [
    "summing(2,5)"
   ]
  },
  {
   "cell_type": "code",
   "execution_count": 7,
   "id": "8e6c259e",
   "metadata": {},
   "outputs": [
    {
     "data": {
      "text/plain": [
       "'please enter a number'"
      ]
     },
     "execution_count": 7,
     "metadata": {},
     "output_type": "execute_result"
    }
   ],
   "source": [
    "summing('red',3)"
   ]
  },
  {
   "cell_type": "markdown",
   "id": "95bc6ad3",
   "metadata": {},
   "source": [
    "##### Problem 3: Create a function that takes a string and returns the number (count) of vowels contained within it."
   ]
  },
  {
   "cell_type": "code",
   "execution_count": 8,
   "id": "09950e04",
   "metadata": {},
   "outputs": [],
   "source": [
    "def vowel_count (string):\n",
    "    try:\n",
    "        vowel_amt=[]\n",
    "        vowels=['a','e','i','o','u']\n",
    "        for c in string:\n",
    "            if c in vowels:\n",
    "                vowel_amt.append(c)\n",
    "            vol_len=len(vowel_amt)\n",
    "        return vol_len\n",
    "    except TypeError:\n",
    "        return 'please enter an iterable object'"
   ]
  },
  {
   "cell_type": "code",
   "execution_count": 9,
   "id": "912a1ee5",
   "metadata": {},
   "outputs": [
    {
     "data": {
      "text/plain": [
       "2"
      ]
     },
     "execution_count": 9,
     "metadata": {},
     "output_type": "execute_result"
    }
   ],
   "source": [
    "vowel_count('keggle')"
   ]
  },
  {
   "cell_type": "code",
   "execution_count": 10,
   "id": "cb1b9398",
   "metadata": {
    "scrolled": true
   },
   "outputs": [
    {
     "name": "stdout",
     "output_type": "stream",
     "text": [
      "please enter an iterable object\n"
     ]
    }
   ],
   "source": [
    "print(vowel_count(9))"
   ]
  },
  {
   "cell_type": "markdown",
   "id": "d3e76c23",
   "metadata": {},
   "source": [
    "##### Bonus Points (Optional) Create a function that takes a number as an argument and returns “Fizz”, “Buzz” or “FizzBuzz”."
   ]
  },
  {
   "cell_type": "code",
   "execution_count": 11,
   "id": "71792c3f",
   "metadata": {},
   "outputs": [],
   "source": [
    "def choosey (number):\n",
    "    try:\n",
    "        if number %3==0:\n",
    "            return 'Fizz'\n",
    "        elif number % 5==0:\n",
    "            return 'Buzz'\n",
    "        elif number % 3==0 and number %5==0:\n",
    "            return 'fizzBuzz'\n",
    "        else:\n",
    "            return 'invalid number'\n",
    "    except TypeError:\n",
    "        return 'type an integer please'"
   ]
  },
  {
   "cell_type": "code",
   "execution_count": 12,
   "id": "13e97ab8",
   "metadata": {
    "scrolled": true
   },
   "outputs": [
    {
     "data": {
      "text/plain": [
       "'Fizz'"
      ]
     },
     "execution_count": 12,
     "metadata": {},
     "output_type": "execute_result"
    }
   ],
   "source": [
    "choosey(3764748)"
   ]
  },
  {
   "cell_type": "code",
   "execution_count": 13,
   "id": "068ae882",
   "metadata": {},
   "outputs": [
    {
     "data": {
      "text/plain": [
       "'type an integer please'"
      ]
     },
     "execution_count": 13,
     "metadata": {},
     "output_type": "execute_result"
    }
   ],
   "source": [
    "choosey('gydu')"
   ]
  }
 ],
 "metadata": {
  "kernelspec": {
   "display_name": "Python 3 (ipykernel)",
   "language": "python",
   "name": "python3"
  },
  "language_info": {
   "codemirror_mode": {
    "name": "ipython",
    "version": 3
   },
   "file_extension": ".py",
   "mimetype": "text/x-python",
   "name": "python",
   "nbconvert_exporter": "python",
   "pygments_lexer": "ipython3",
   "version": "3.9.13"
  }
 },
 "nbformat": 4,
 "nbformat_minor": 5
}
