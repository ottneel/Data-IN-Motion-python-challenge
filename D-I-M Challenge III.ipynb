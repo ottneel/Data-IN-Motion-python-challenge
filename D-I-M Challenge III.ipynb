{
 "cells": [
  {
   "cell_type": "markdown",
   "id": "344f9818",
   "metadata": {},
   "source": [
    "##### Problem 1: Create a function that takes two arguments: the original price and the discount percentage as integers and returns the final price after the discount."
   ]
  },
  {
   "cell_type": "code",
   "execution_count": 1,
   "id": "86f81c3b",
   "metadata": {},
   "outputs": [],
   "source": [
    "def final_price (original_price, discount_percent):\n",
    "    try:\n",
    "        discount_percent = discount_percent/100\n",
    "        final_price = original_price * discount_percent\n",
    "        return final_price\n",
    "    except TypeError:\n",
    "        return 'enter an int'"
   ]
  },
  {
   "cell_type": "code",
   "execution_count": 2,
   "id": "c8fe847b",
   "metadata": {
    "scrolled": true
   },
   "outputs": [
    {
     "data": {
      "text/plain": [
       "10.0"
      ]
     },
     "execution_count": 2,
     "metadata": {},
     "output_type": "execute_result"
    }
   ],
   "source": [
    "final_price(100,10)"
   ]
  },
  {
   "cell_type": "code",
   "execution_count": 3,
   "id": "e6295dbe",
   "metadata": {
    "scrolled": true
   },
   "outputs": [
    {
     "data": {
      "text/plain": [
       "'enter an int'"
      ]
     },
     "execution_count": 3,
     "metadata": {},
     "output_type": "execute_result"
    }
   ],
   "source": [
    "final_price('s','e')"
   ]
  },
  {
   "cell_type": "markdown",
   "id": "b320d78c",
   "metadata": {},
   "source": [
    "##### Problem 2: Create a function that takes the age in years and returns the age in days."
   ]
  },
  {
   "cell_type": "code",
   "execution_count": 4,
   "id": "47690b99",
   "metadata": {},
   "outputs": [],
   "source": [
    "def age_converter (age_in_years,leap_year = 4):\n",
    "    in_days = age_in_years * 365\n",
    "    final_age_in_days = in_days + (age_in_years / leap_year)\n",
    "    return f\"{age_in_years} years is {final_age_in_days} days\""
   ]
  },
  {
   "cell_type": "code",
   "execution_count": 5,
   "id": "d09488bf",
   "metadata": {},
   "outputs": [
    {
     "data": {
      "text/plain": [
       "'60 years is 21915.0 days'"
      ]
     },
     "execution_count": 5,
     "metadata": {},
     "output_type": "execute_result"
    }
   ],
   "source": [
    "age_converter(60)"
   ]
  },
  {
   "cell_type": "markdown",
   "id": "9a45d49f",
   "metadata": {},
   "source": [
    "##### Problem 3: Create a function that takes an angle in radians and returns the corresponding angle in degrees rounded to one decimal place."
   ]
  },
  {
   "cell_type": "code",
   "execution_count": 6,
   "id": "898d35b9",
   "metadata": {},
   "outputs": [],
   "source": [
    "def rad_to_deg(angle):\n",
    "    from math import pi\n",
    "    degree = round(angle *(180/pi),1)\n",
    "    return degree"
   ]
  },
  {
   "cell_type": "code",
   "execution_count": 7,
   "id": "ed36fdf4",
   "metadata": {},
   "outputs": [
    {
     "data": {
      "text/plain": [
       "1181811.4"
      ]
     },
     "execution_count": 7,
     "metadata": {},
     "output_type": "execute_result"
    }
   ],
   "source": [
    "rad_to_deg(20626.5)"
   ]
  },
  {
   "cell_type": "markdown",
   "id": "fdf5e9b1",
   "metadata": {},
   "source": [
    "##### Bonus (Optional)\n",
    "##### Create a function, get_days, that takes two dates and returns the number of days between the first and second date"
   ]
  },
  {
   "cell_type": "code",
   "execution_count": 8,
   "id": "245d712a",
   "metadata": {},
   "outputs": [],
   "source": [
    "def get_days (date1,date2):\n",
    "    import numpy as np\n",
    "    difference = np.busday_count(date1,date2)\n",
    "    return f\"there are {difference} days between {date1} and {date2}\""
   ]
  },
  {
   "cell_type": "code",
   "execution_count": 9,
   "id": "59258502",
   "metadata": {},
   "outputs": [
    {
     "data": {
      "text/plain": [
       "'there are 22 days between 2023-07-23 and 2023-08-23'"
      ]
     },
     "execution_count": 9,
     "metadata": {},
     "output_type": "execute_result"
    }
   ],
   "source": [
    "get_days('2023-07-23','2023-08-23')"
   ]
  },
  {
   "cell_type": "code",
   "execution_count": 10,
   "id": "5c79d876",
   "metadata": {},
   "outputs": [],
   "source": [
    "# defined another function that converts string to date values and then takes the difference"
   ]
  },
  {
   "cell_type": "code",
   "execution_count": 11,
   "id": "4636d9eb",
   "metadata": {},
   "outputs": [],
   "source": [
    "def get_day (date1,date2):\n",
    "    from datetime import datetime\n",
    "    date1=datetime.strptime(date1, '%Y-%m-%d')\n",
    "    date2=datetime.strptime(date2, '%Y-%m-%d')\n",
    "    diff = date1-date2\n",
    "    return diff"
   ]
  },
  {
   "cell_type": "code",
   "execution_count": 12,
   "id": "bd9ad490",
   "metadata": {
    "scrolled": true
   },
   "outputs": [
    {
     "data": {
      "text/plain": [
       "datetime.timedelta(days=-31)"
      ]
     },
     "execution_count": 12,
     "metadata": {},
     "output_type": "execute_result"
    }
   ],
   "source": [
    "get_day('2023-07-23','2023-08-23')"
   ]
  },
  {
   "cell_type": "code",
   "execution_count": null,
   "id": "6acd20ff",
   "metadata": {},
   "outputs": [],
   "source": []
  }
 ],
 "metadata": {
  "kernelspec": {
   "display_name": "Python 3 (ipykernel)",
   "language": "python",
   "name": "python3"
  },
  "language_info": {
   "codemirror_mode": {
    "name": "ipython",
    "version": 3
   },
   "file_extension": ".py",
   "mimetype": "text/x-python",
   "name": "python",
   "nbconvert_exporter": "python",
   "pygments_lexer": "ipython3",
   "version": "3.9.13"
  }
 },
 "nbformat": 4,
 "nbformat_minor": 5
}
